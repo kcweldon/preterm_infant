{
 "cells": [
  {
   "cell_type": "markdown",
   "metadata": {},
   "source": [
    "# Import vaginal samples"
   ]
  },
  {
   "cell_type": "code",
   "execution_count": 3,
   "metadata": {},
   "outputs": [],
   "source": [
    "import pandas as pd\n",
    "import qiime2 as q2\n",
    "from biom import Table, load_table\n",
    "from biom.util import biom_open"
   ]
  },
  {
   "cell_type": "markdown",
   "metadata": {},
   "source": [
    "## Redbiom fetch study\n",
    "vaginal samples from study 10894 only USA"
   ]
  },
  {
   "cell_type": "code",
   "execution_count": 43,
   "metadata": {},
   "outputs": [
    {
     "name": "stderr",
     "output_type": "stream",
     "text": [
      "10770 sample ambiguities observed. Writing ambiguity mappings to: 10894.biom.ambiguities\n"
     ]
    }
   ],
   "source": [
    "%%script bash\n",
    "source ~/.bash_profile\n",
    "conda activate qiime2-2020.2\n",
    "\n",
    "out_dir=/projects/cmi_proj/seed_grants/Infant_Studies/Jae_Kim/nature_med_consolidated_analyses/sw_notebooks/data_10894\n",
    "mkdir -p $out_dir\n",
    "\n",
    "#Downlaod biom data\n",
    "redbiom search metadata \"where qiita_study_id==10894\" |\\\n",
    "redbiom fetch samples --context  Deblur-Illumina-16S-V4-100nt-fbc5b2 --output $out_dir/10894.biom\n",
    "\n",
    "#Download metadata\n",
    "redbiom search metadata \"where qiita_study_id==10894\" |\\\n",
    "redbiom fetch sample-metadata --all-columns --context  Deblur-Illumina-16S-V4-100nt-fbc5b2 --output $out_dir/10894_md.txt"
   ]
  },
  {
   "cell_type": "markdown",
   "metadata": {},
   "source": [
    "# Additional filtering\n",
    "Redbiom only allows 2 filtering terms. (If you are reading this and know how to do more than 2, please let me know)"
   ]
  },
  {
   "cell_type": "code",
   "execution_count": 45,
   "metadata": {},
   "outputs": [
    {
     "name": "stdout",
     "output_type": "stream",
     "text": [
      "Saved to /projects/cmi_proj/seed_grants/Infant_Studies/Jae_Kim/nature_med_consolidated_analyses/sw_notebooks/data_10894/10894_vaginal.biom\n",
      "Saved to /projects/cmi_proj/seed_grants/Infant_Studies/Jae_Kim/nature_med_consolidated_analyses/sw_notebooks/data_10894/10894_baby.biom\n"
     ]
    }
   ],
   "source": [
    "#Load metadata\n",
    "data_dir=\"/projects/cmi_proj/seed_grants/Infant_Studies/Jae_Kim/nature_med_consolidated_analyses/sw_notebooks/data_10894/\"\n",
    "md=pd.read_csv(data_dir + \"10894_md.txt\",sep='\\t', index_col=0)\n",
    "#select samples\n",
    "vaginal_keep = set(md.query('sample_type==\"vaginal mucus\" & mom_baby==\"Mom\" & country==\"USA\"').index )\n",
    "baby_keep = set(md.query('sample_type in [\"feces\",\"saliva\",\"skin\"] & mom_baby==\"Baby\" & country==\"USA\" & current_abx==\"No\" & date_sampling_category in [\"Day_0\",\"Day_1\",\"Day_2-3\",\"Day_7\",\"Day_14\"] & birth_mode!=\"CSseed\"').index )\n",
    "baby_md = md.query('index in @baby_keep')\n",
    "vaginal_md = md.query('index in @vaginal_keep')\n",
    "\n",
    "#Load data\n",
    "bt = load_table(data_dir + \"10894.biom\")\n",
    "\n",
    "#Filter tables\n",
    "v_bt = bt.filter(vaginal_keep, inplace=False)\n",
    "b_bt = bt.filter(baby_keep, inplace=False)\n",
    "\n",
    "#Save tables\n",
    "def save_biom(biom_filename, biom_table,author='default'):\n",
    "    with biom_open(biom_filename, 'w') as f:  \n",
    "            biom_table.to_hdf5(f, author)\n",
    "    print(\"Saved to \" + biom_filename)\n",
    "save_biom(data_dir + \"10894_vaginal.biom\", v_bt)\n",
    "save_biom(data_dir + \"10894_baby.biom\", b_bt)"
   ]
  },
  {
   "cell_type": "markdown",
   "metadata": {},
   "source": [
    "# Sumarize samples"
   ]
  },
  {
   "cell_type": "code",
   "execution_count": 46,
   "metadata": {},
   "outputs": [
    {
     "name": "stdout",
     "output_type": "stream",
     "text": [
      "Vaginal samples: 427\n",
      "Baby samples samples: 499\n",
      "\n",
      "Baby sample type breakdown\n"
     ]
    },
    {
     "data": {
      "text/plain": [
       "skin      262\n",
       "feces     144\n",
       "saliva     93\n",
       "Name: sample_type, dtype: int64"
      ]
     },
     "execution_count": 46,
     "metadata": {},
     "output_type": "execute_result"
    }
   ],
   "source": [
    "print(\"Vaginal samples: {}\".format(v_bt.shape[1]))\n",
    "print(\"Baby samples samples: {}\".format(b_bt.shape[1]))\n",
    "print()\n",
    "print(\"Baby sample type breakdown\")\n",
    "baby_md.sample_type.value_counts()"
   ]
  },
  {
   "cell_type": "code",
   "execution_count": 48,
   "metadata": {},
   "outputs": [
    {
     "data": {
      "text/plain": [
       "Vag       436\n",
       "CS         40\n",
       "CSself     23\n",
       "Name: birth_mode, dtype: int64"
      ]
     },
     "execution_count": 48,
     "metadata": {},
     "output_type": "execute_result"
    }
   ],
   "source": [
    "#Birth mode breakdown\n",
    "baby_md.birth_mode.value_counts()"
   ]
  }
 ],
 "metadata": {
  "kernelspec": {
   "display_name": "qiime2-2020.2",
   "language": "python",
   "name": "qiime2-2020.2"
  },
  "language_info": {
   "codemirror_mode": {
    "name": "ipython",
    "version": 3
   },
   "file_extension": ".py",
   "mimetype": "text/x-python",
   "name": "python",
   "nbconvert_exporter": "python",
   "pygments_lexer": "ipython3",
   "version": "3.6.7"
  }
 },
 "nbformat": 4,
 "nbformat_minor": 2
}
