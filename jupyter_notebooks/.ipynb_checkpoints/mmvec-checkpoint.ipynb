{
 "cells": [
  {
   "cell_type": "markdown",
   "metadata": {},
   "source": [
    "# Mmvec"
   ]
  },
  {
   "cell_type": "code",
   "execution_count": 1,
   "metadata": {},
   "outputs": [],
   "source": [
    "import pandas as pd\n",
    "import numpy as np\n",
    "from utils.utils import confidence_ellipse , save_fna\n",
    "\n",
    "#Qiime\n",
    "import qiime2 as q2\n",
    "from qiime2.plugins.mmvec.actions import paired_omics\n",
    "from qiime2.plugins.mmvec.actions import heatmap\n",
    "from qiime2.plugins.emperor.actions import biplot\n",
    "from qiime2.plugins.taxa.actions import collapse\n",
    "from biom import Table, load_table\n",
    "\n",
    "#Plotting\n",
    "import plotnine as pn\n",
    "import matplotlib.pyplot as plt\n",
    "import matplotlib.lines as mlines\n",
    "from matplotlib.lines import Line2D\n",
    "%matplotlib inline"
   ]
  },
  {
   "cell_type": "markdown",
   "metadata": {},
   "source": [
    "Import data"
   ]
  },
  {
   "cell_type": "code",
   "execution_count": 2,
   "metadata": {},
   "outputs": [],
   "source": [
    "root_dir=\"/projects/cmi_proj/seed_grants/Infant_Studies/Jae_Kim/nature_med_consolidated_analyses/\"\n",
    "def collapse_bt(bt):\n",
    "    qza = q2.Artifact.import_data('FeatureTable[Frequency]', bt)\n",
    "    collapse_qza=collapse(table=qza,\n",
    "                          taxonomy=tax_qza,\n",
    "                          level=6).collapsed_table\n",
    "    return(collapse_qza.view(Table))\n",
    "\n",
    "#metadata\n",
    "md = pd.read_csv(root_dir + \"metadata/20200604_merged_metadata.tsv\", sep='\\t', index_col=0)\n",
    "md.index.name=\"sample_name\"\n",
    "md_samples = set(md.index)\n",
    "\n",
    "#Taxonomy\n",
    "root_dir=\"/projects/cmi_proj/seed_grants/Infant_Studies/Jae_Kim/nature_med_consolidated_analyses/\"\n",
    "tax_qza = q2.Artifact.load(root_dir + \"/intermediate_data/stody_seq_classification.qza\")\n",
    "\n",
    "#16s data\n",
    "bac_doty_bt = load_table(root_dir + \"raw_data/56491_reference-hit.biom\")\n",
    "#Collapse to genus\n",
    "genus_doty_bt = collapse_bt(bac_doty_bt)\n",
    "bac_samples = set( genus_doty_bt.ids())\n",
    "#Make genus df\n",
    "genera = genus_doty_bt.ids(\"observation\")\n",
    "genera_df = pd.DataFrame(index=genera, data=genera, columns=[\"taxon\"])\n",
    "genera_df.index.name=\"sample_name\"\n",
    "genera_qza = q2.Metadata(genera_df)\n",
    "\n",
    "\n",
    "#Metabolomics data\n",
    "met_doty_bt = load_table(root_dir + \"raw_data/70260_doty_all_biom_normalized.biom\")\n",
    "met_samples = set( met_doty_bt.ids())\n",
    "\n",
    "#Filter data\n",
    "samples_keep = md_samples & bac_samples & met_samples\n",
    "md = md.query('index in @samples_keep')\n",
    "genus_doty_bt.filter(samples_keep)\n",
    "met_doty_bt.filter(samples_keep)\n",
    "\n",
    "#Split by sample type\n",
    "stype_dict={}\n",
    "for sample_type in [\"Stool\",\"Oral\",\"Skin\"]:\n",
    "    md_ss = md.query('sample_type==@sample_type').copy()\n",
    "    md_ss_q2 = q2.Metadata(md_ss)\n",
    "    sample_ss = set(md_ss.index)\n",
    "    genus_bt_ss = genus_doty_bt.filter(sample_ss, inplace=False)\n",
    "    met_bt_ss = met_doty_bt.filter(sample_ss, inplace=False)\n",
    "    genus_qza_ss =  q2.Artifact.import_data('FeatureTable[Frequency]', genus_bt_ss)\n",
    "    met_qza_ss =  q2.Artifact.import_data('FeatureTable[Frequency]', met_bt_ss)\n",
    "    stype_dict[sample_type] = (genus_qza_ss,met_qza_ss, md_ss_q2)\n",
    "    \n",
    "\n",
    "\n",
    "\n"
   ]
  },
  {
   "cell_type": "markdown",
   "metadata": {},
   "source": [
    "Bile acid metadata"
   ]
  },
  {
   "cell_type": "code",
   "execution_count": 3,
   "metadata": {},
   "outputs": [],
   "source": [
    "ba={\"Tauromuricholic acid, gamma (Taurohyocholic acid)\":\"primary conjugated\",\n",
    "\"Taurohyocholic acid\":\"primary conjugated\",\n",
    "\"Taurohyodeoxycholic acid\":\"secondary conjugated\",\n",
    "\"Tauroursodeoxycholic acid\":\"secondary conjugated\",\n",
    "\"Taurocholic acid\":\"primary conjugated\",\n",
    "\"Glycohyocholic acid\":\"primary conjugated\",\n",
    "\"Glycocholic acid\":\"primary conjugated\",\n",
    "\"Glycoursodeoxycholic acid\":\"secondary conjugated\",\n",
    "\"Glycohyodeoxycholic acid\":\"secondary conjugated\",\n",
    "\"Taurochenodeoxycholic acid\":\"primary conjugated\",\n",
    "\"Taurodeoxycholic acid\":\"secondary conjugated\",\n",
    "\"Muricholic acid, gamma (Hyocholic acid)\":\"primary\",\n",
    "\"Hyocholic acid\":\"primary\",\n",
    "\"Cholic acid\":\"primary\",\n",
    "\"Glycochenodeoxycholic acid\":\"primary conjugated\",\n",
    "\"Ursodeoxycholic acid\":\"secondary\",\n",
    "\"Hyodeoxycholic acid\":\"secondary\",\n",
    "\"Glycodeoxycholic acid\":\"secondary conjugated\",\n",
    "\"Taurolithocholic acid\":\"secondary conjugated\",\n",
    "\"Chenodeoxycholic acid\":\"primary\",\n",
    "\"Deoxycholic acid\":\"secondary\",\n",
    "\"Glycolithocholic acid\":\"secondary conjugated\",\n",
    "\"Lithocholic acid\":\"secondary\",\n",
    "\"Muricholic acid, alpha\":\"primary\",\n",
    "\"Muricholic acid, beta\":\"primary\",\n",
    "\"Muricholic acid, omega\":\"primary\",\n",
    "\"Tauromuricholic acid, alpha\":\"primary conjugated\",\n",
    "\"Tauromuricholic acid, beta\":\"primary conjugated\",\n",
    "\"Tauromuricholic acid, omega\":\"primary conjugated\"}\n",
    "\n",
    "ba= {x.split()[0].lower():y for x,y in ba.items()}\n",
    "\n",
    "def convert(x):\n",
    "    if \"cholic\" not in x.lower():\n",
    "        return(\"nan\")\n",
    "    x_split = x.split()\n",
    "    for word in x_split:\n",
    "        if \"-\" in word:\n",
    "            word=word.split(\"-\")[1]\n",
    "        word_lower = word.lower()\n",
    "        try:\n",
    "            return(ba[word_lower])\n",
    "        except:\n",
    "            return(\"nan\")\n",
    "\n",
    "met_md = met_doty_bt.metadata_to_dataframe(axis=\"observation\")\n",
    "met_md[\"bile_acid\"] = met_md.Compound_Name.apply(convert)\n",
    "met_md.index.name = \"featureid\"\n",
    "met_md = met_md.fillna(\"nan\")\n",
    "met_md_q2 = q2.Metadata(met_md.loc[:,[\"Compound_Name\",\"bile_acid\"]])"
   ]
  },
  {
   "cell_type": "markdown",
   "metadata": {},
   "source": [
    "Subset only bile acids"
   ]
  },
  {
   "cell_type": "code",
   "execution_count": 4,
   "metadata": {},
   "outputs": [],
   "source": [
    "mets_keep=set( met_md.query('bile_acid!=\"nan\"').index )\n",
    "met_doty_bile_bt = met_doty_bt.filter(mets_keep, inplace=False, axis=\"observation\")\n",
    "\n",
    "stype_bile_dict={}\n",
    "for sample_type in [\"Stool\",\"Oral\",\"Skin\"]:\n",
    "    md_ss = md.query('sample_type==@sample_type').copy()\n",
    "    md_ss_q2 = q2.Metadata(md_ss)\n",
    "    sample_ss = set(md_ss.index)\n",
    "    genus_bt_ss = genus_doty_bt.filter(sample_ss, inplace=False)\n",
    "    met_bt_ss = met_doty_bile_bt.filter(sample_ss, inplace=False)\n",
    "    genus_qza_ss =  q2.Artifact.import_data('FeatureTable[Frequency]', genus_bt_ss)\n",
    "    met_qza_ss =  q2.Artifact.import_data('FeatureTable[Frequency]', met_bt_ss)\n",
    "    stype_bile_dict[sample_type] = (genus_qza_ss,met_qza_ss, md_ss_q2)"
   ]
  },
  {
   "cell_type": "markdown",
   "metadata": {},
   "source": [
    "# Run mmvec"
   ]
  },
  {
   "cell_type": "markdown",
   "metadata": {},
   "source": [
    "All metabolites"
   ]
  },
  {
   "cell_type": "code",
   "execution_count": 19,
   "metadata": {},
   "outputs": [
    {
     "name": "stderr",
     "output_type": "stream",
     "text": [
      "100%|██████████| 19376/19376 [02:18<00:00, 139.53it/s]\n",
      "100%|██████████| 19830/19830 [02:21<00:00, 139.67it/s]\n",
      "100%|██████████| 21676/21676 [02:32<00:00, 142.35it/s]\n"
     ]
    }
   ],
   "source": [
    "sample_types = [\"Stool\",\"Oral\",\"Skin\"]\n",
    "mmvec_dict={x:{} for x in sample_types}\n",
    "\n",
    "!mkdir -p $root_dir/intermediate_data/mmvec\n",
    "for sample_type in sample_types:\n",
    "    mmvec_dict[sample_type][\"conditionals\"],mmvec_dict[sample_type][\"conditional_biplot\"] = paired_omics(microbes=stype_dict[sample_type][0],\n",
    "                                                                                                       metabolites=stype_dict[sample_type][1],\n",
    "                                                                                                       metadata=stype_dict[sample_type][2])\n",
    "    mmvec_dict[sample_type][\"conditionals\"].save(root_dir + \"/intermediate_data/mmvec/{}_mmvec_conditionals.qza\".format(sample_type))\n",
    "    mmvec_dict[sample_type][\"conditional_biplot\"].save(root_dir + \"/intermediate_data/mmvec/{}_mmvec_biplot.qza\".format(sample_type))\n",
    "    mmvec_dict[sample_type][\"emperor_biplot\"] = biplot(mmvec_dict[sample_type][\"conditional_biplot\"],\n",
    "                                                                                   sample_metadata=met_md_q2,\n",
    "                                                                                    feature_metadata=genera_qza\n",
    "                                                                                   ).visualization\n",
    "    mmvec_dict[sample_type][\"emperor_biplot\"].save(root_dir + \"/intermediate_data/mmvec/{}_mmvec_biplot.qzv\".format(sample_type))"
   ]
  },
  {
   "cell_type": "code",
   "execution_count": null,
   "metadata": {},
   "outputs": [],
   "source": [
    "mmvec_dict[sample_type][\"conditionals\"] = q2.Artifact.load(root_dir + \"/intermediate_data/mmvec/{}_mmvec_conditionals.qza\".format(sample_type))\n",
    "mmvec_dict[sample_type][\"conditional_biplot\"] = q2.Artifact.load(root_dir + \"/intermediate_data/mmvec/{}_mmvec_conditionals.qza\".format(sample_type))\n",
    "mmvec_dict[sample_type][\"emperor_biplot\"] = \n",
    "    \n",
    "    \n",
    "    "
   ]
  },
  {
   "cell_type": "code",
   "execution_count": null,
   "metadata": {},
   "outputs": [
    {
     "name": "stdout",
     "output_type": "stream",
     "text": [
      "start\n"
     ]
    },
    {
     "name": "stderr",
     "output_type": "stream",
     "text": [
      "100%|█████████▉| 19169/19192 [00:11<00:00, 1790.26it/s]"
     ]
    }
   ],
   "source": [
    "sample_type=\"Stool\"\n",
    "mmvec_bile_dict={x:{} for x in sample_types}\n",
    "\n",
    "!mkdir -p $root_dir/intermediate_data/mmvec\n",
    "print(\"start\")\n",
    "mmvec_bile_dict[sample_type][\"conditionals\"],mmvec_bile_dict[sample_type][\"conditional_biplot\"] = paired_omics(microbes=stype_bile_dict[sample_type][0],\n",
    "                                                                                                   metabolites=stype_bile_dict[sample_type][1],\n",
    "                                                                                                   metadata=stype_bile_dict[sample_type][2])\n"
   ]
  },
  {
   "cell_type": "code",
   "execution_count": null,
   "metadata": {},
   "outputs": [],
   "source": [
    "mmvec_bile_dict[sample_type][\"conditionals\"].save(root_dir + \"/intermediate_data/mmvec/{}_mmvec_bile_conditionals.qza\".format(sample_type))\n",
    "mmvec_bile_dict[sample_type][\"conditional_biplot\"].save(root_dir + \"/intermediate_data/mmvec/{}_mmvec_bile_biplot.qza\".format(sample_type))\n",
    "mmvec_bile_dict[sample_type][\"emperor_biplot\"] = biplot(mmvec_bile_dict[sample_type][\"conditional_biplot\"],\n",
    "                                                                               sample_metadata=met_md_q2,\n",
    "                                                                                feature_metadata=genera_qza\n",
    "                                                                               ).visualization\n",
    "mmvec_bile_dict[sample_type][\"emperor_biplot\"].save(root_dir + \"/intermediate_data/mmvec/{}_mmvec_bile_biplot.qzv\".format(sample_type))\n"
   ]
  },
  {
   "cell_type": "markdown",
   "metadata": {},
   "source": [
    "# Heatmap"
   ]
  },
  {
   "cell_type": "code",
   "execution_count": null,
   "metadata": {},
   "outputs": [],
   "source": [
    "qiime mmvec heatmap \\\n",
    "  --i-ranks ranks.qza \\\n",
    "  --m-microbe-metadata-file taxonomy.tsv \\\n",
    "  --m-microbe-metadata-column Taxon \\\n",
    "  --m-metabolite-metadata-file metabolite-metadata.txt \\\n",
    "  --m-metabolite-metadata-column Compound_Source \\\n",
    "  --p-level 5 \\\n",
    "  --o-visualization ranks-heatmap.qzv"
   ]
  },
  {
   "cell_type": "code",
   "execution_count": 24,
   "metadata": {},
   "outputs": [
    {
     "name": "stderr",
     "output_type": "stream",
     "text": [
      "/home/swandro/miniconda3/envs/qiime2-2020.2/lib/python3.6/site-packages/mmvec/heatmap.py:314: UserWarning: Conditional probabilities table and metabolite metadata will be filtered to contain only the intersection of IDs in each. If this behavior is undesired, ensure that all metabolite IDs are present in both the table and the metadata file\n",
      "  warnings.warn(warning, UserWarning)\n"
     ]
    },
    {
     "data": {
      "image/png": "[encoded data removed]",
      "text/plain": [
       "<Figure size 864x864 with 5 Axes>"
      ]
     },
     "metadata": {
      "needs_background": "light"
     },
     "output_type": "display_data"
    }
   ],
   "source": [
    "test = heatmap(ranks=mmvec_dict[\"Stool\"][\"conditionals\"],\n",
    "               #microbe_metadata=genera_qza,\n",
    "               metabolite_metadata=met_md_q2.get_column(\"bile_acid\"),\n",
    "               method=\"average\",\n",
    "               metric=\"euclidean\",\n",
    "               level=-1,\n",
    "               row_center=True)"
   ]
  },
  {
   "cell_type": "code",
   "execution_count": 36,
   "metadata": {},
   "outputs": [
    {
     "data": {
      "text/plain": [
       "{'Stool': {}, 'Oral': {}, 'Skin': {}}"
      ]
     },
     "execution_count": 36,
     "metadata": {},
     "output_type": "execute_result"
    }
   ],
   "source": [
    "mmvec_bile_dict"
   ]
  },
  {
   "cell_type": "code",
   "execution_count": 34,
   "metadata": {},
   "outputs": [
    {
     "ename": "KeyError",
     "evalue": "'conditionals'",
     "output_type": "error",
     "traceback": [
      "\u001b[0;31m---------------------------------------------------------------------------\u001b[0m",
      "\u001b[0;31mKeyError\u001b[0m                                  Traceback (most recent call last)",
      "\u001b[0;32m<ipython-input-34-325ed8caa16b>\u001b[0m in \u001b[0;36m<module>\u001b[0;34m\u001b[0m\n\u001b[0;32m----> 1\u001b[0;31m test_bile = heatmap(ranks=mmvec_bile_dict[\"Stool\"][\"conditionals\"],\n\u001b[0m\u001b[1;32m      2\u001b[0m                \u001b[0;31m#microbe_metadata=genera_qza,\u001b[0m\u001b[0;34m\u001b[0m\u001b[0;34m\u001b[0m\u001b[0;34m\u001b[0m\u001b[0m\n\u001b[1;32m      3\u001b[0m                \u001b[0mmetabolite_metadata\u001b[0m\u001b[0;34m=\u001b[0m\u001b[0mmet_md_q2\u001b[0m\u001b[0;34m.\u001b[0m\u001b[0mget_column\u001b[0m\u001b[0;34m(\u001b[0m\u001b[0;34m\"bile_acid\"\u001b[0m\u001b[0;34m)\u001b[0m\u001b[0;34m,\u001b[0m\u001b[0;34m\u001b[0m\u001b[0;34m\u001b[0m\u001b[0m\n\u001b[1;32m      4\u001b[0m                \u001b[0mmethod\u001b[0m\u001b[0;34m=\u001b[0m\u001b[0;34m\"average\"\u001b[0m\u001b[0;34m,\u001b[0m\u001b[0;34m\u001b[0m\u001b[0;34m\u001b[0m\u001b[0m\n\u001b[1;32m      5\u001b[0m                \u001b[0mmetric\u001b[0m\u001b[0;34m=\u001b[0m\u001b[0;34m\"euclidean\"\u001b[0m\u001b[0;34m,\u001b[0m\u001b[0;34m\u001b[0m\u001b[0;34m\u001b[0m\u001b[0m\n",
      "\u001b[0;31mKeyError\u001b[0m: 'conditionals'"
     ]
    }
   ],
   "source": [
    "test_bile = heatmap(ranks=mmvec_bile_dict[\"Stool\"][\"conditionals\"],\n",
    "               #microbe_metadata=genera_qza,\n",
    "               metabolite_metadata=met_md_q2.get_column(\"bile_acid\"),\n",
    "               method=\"average\",\n",
    "               metric=\"euclidean\",\n",
    "               level=-1,\n",
    "               row_center=True)"
   ]
  },
  {
   "cell_type": "code",
   "execution_count": 26,
   "metadata": {},
   "outputs": [
    {
     "data": {
      "text/html": [
       "<div><img onload=\"(function(div, url){\n",
       "if (typeof require !== 'undefined') {\n",
       "    var baseURL = require.toUrl('').split('/').slice(0, -2).join('/');\n",
       "} else {\n",
       "    var baseURL = JSON.parse(\n",
       "        document.getElementById('jupyter-config-data').innerHTML\n",
       "    ).baseUrl.slice(0, -1);\n",
       "}\n",
       "url = baseURL + url;\n",
       "fetch(url).then(function(res) {\n",
       "    if (res.status === 404) {\n",
       "        div.innerHTML = 'Install QIIME 2 Jupyter extension with:<br />' +\n",
       "                        '<code>jupyter serverextension enable --py qiime2' +\n",
       "                        ' --sys-prefix</code><br />then restart your server.' +\n",
       "                        '<br /><br />(Interactive output not available on ' +\n",
       "                        'static notebook viewer services like nbviewer.)';\n",
       "    } else if (res.status === 409) {\n",
       "        div.innerHTML = 'Visualization no longer in scope. Re-run this cell' +\n",
       "                        ' to see the visualization.';\n",
       "    } else if (res.ok) {\n",
       "        url = res.url;\n",
       "        div.innerHTML = '<iframe src=\\'' + url + '\\' style=\\'' +\n",
       "                        'width: 100%; height: 700px; border: 0;\\'>' +\n",
       "                        '</iframe><hr />Open in a: <a href=\\'' + url + '\\'' +\n",
       "                        ' target=\\'_blank\\'>new window</a>'\n",
       "    } else {\n",
       "        div.innerHTML = 'Something has gone wrong. Check notebook server for' +\n",
       "                        ' errors.';\n",
       "    }\n",
       "});\n",
       "})(this.parentElement, '/qiime2/redirect?location=/tmp/qiime2-archive-b2h0ubm8')\" src=\"data:image/gif;base64,R0lGODlhAQABAIAAAP///wAAACH5BAEAAAAALAAAAAABAAEAAAICRAEAOw==\" /></div>"
      ],
      "text/plain": [
       "<visualization: Visualization uuid: 8cbeffe5-77a7-426f-89a6-aabe6bc28e61>"
      ]
     },
     "execution_count": 26,
     "metadata": {},
     "output_type": "execute_result"
    }
   ],
   "source": [
    "test.visualization"
   ]
  }
 ],
 "metadata": {
  "kernelspec": {
   "display_name": "qiime2-2020.2",
   "language": "python",
   "name": "qiime2-2020.2"
  },
  "language_info": {
   "codemirror_mode": {
    "name": "ipython",
    "version": 3
   },
   "file_extension": ".py",
   "mimetype": "text/x-python",
   "name": "python",
   "nbconvert_exporter": "python",
   "pygments_lexer": "ipython3",
   "version": "3.6.7"
  }
 },
 "nbformat": 4,
 "nbformat_minor": 2
}
